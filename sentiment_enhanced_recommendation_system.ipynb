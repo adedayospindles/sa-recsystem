{
  "nbformat": 4,
  "nbformat_minor": 0,
  "metadata": {
    "colab": {
      "provenance": [],
      "gpuType": "T4"
    },
    "kernelspec": {
      "name": "python3",
      "display_name": "Python 3"
    },
    "language_info": {
      "name": "python"
    },
    "accelerator": "GPU"
  },
  "cells": [
    {
      "cell_type": "code",
      "source": [
        "# Install Modules\n",
        "\n",
        "!pip install -U LibRecommender\n",
        "!pip install libreco\n",
        "!pip install pandas"
      ],
      "metadata": {
        "colab": {
          "base_uri": "https://localhost:8080/"
        },
        "id": "z13--g7Oz8Rv",
        "outputId": "ba438beb-6b48-48b2-e9dc-7fa5f6ff42c9"
      },
      "execution_count": null,
      "outputs": [
        {
          "output_type": "stream",
          "name": "stdout",
          "text": [
            "Collecting LibRecommender\n",
            "  Downloading LibRecommender-1.4.0-cp310-cp310-manylinux_2_17_x86_64.manylinux2014_x86_64.whl (2.1 MB)\n",
            "\u001b[?25l     \u001b[90m━━━━━━━━━━━━━━━━━━━━━━━━━━━━━━━━━━━━━━━━\u001b[0m \u001b[32m0.0/2.1 MB\u001b[0m \u001b[31m?\u001b[0m eta \u001b[36m-:--:--\u001b[0m\r\u001b[2K     \u001b[91m━━\u001b[0m\u001b[91m╸\u001b[0m\u001b[90m━━━━━━━━━━━━━━━━━━━━━━━━━━━━━━━━━━━━━\u001b[0m \u001b[32m0.2/2.1 MB\u001b[0m \u001b[31m4.5 MB/s\u001b[0m eta \u001b[36m0:00:01\u001b[0m\r\u001b[2K     \u001b[91m━━━━━━━━━━━━━━━━━━━━━━━━━━━━━━━━━━━━━━━\u001b[0m\u001b[91m╸\u001b[0m \u001b[32m2.1/2.1 MB\u001b[0m \u001b[31m39.7 MB/s\u001b[0m eta \u001b[36m0:00:01\u001b[0m\r\u001b[2K     \u001b[90m━━━━━━━━━━━━━━━━━━━━━━━━━━━━━━━━━━━━━━━━\u001b[0m \u001b[32m2.1/2.1 MB\u001b[0m \u001b[31m28.1 MB/s\u001b[0m eta \u001b[36m0:00:00\u001b[0m\n",
            "\u001b[?25hRequirement already satisfied: gensim>=4.0.0 in /usr/local/lib/python3.10/dist-packages (from LibRecommender) (4.3.2)\n",
            "Requirement already satisfied: tqdm in /usr/local/lib/python3.10/dist-packages (from LibRecommender) (4.66.2)\n",
            "Requirement already satisfied: numpy>=1.18.5 in /usr/local/lib/python3.10/dist-packages (from gensim>=4.0.0->LibRecommender) (1.25.2)\n",
            "Requirement already satisfied: scipy>=1.7.0 in /usr/local/lib/python3.10/dist-packages (from gensim>=4.0.0->LibRecommender) (1.11.4)\n",
            "Requirement already satisfied: smart-open>=1.8.1 in /usr/local/lib/python3.10/dist-packages (from gensim>=4.0.0->LibRecommender) (6.4.0)\n",
            "Installing collected packages: LibRecommender\n",
            "Successfully installed LibRecommender-1.4.0\n",
            "\u001b[31mERROR: Could not find a version that satisfies the requirement libreco (from versions: none)\u001b[0m\u001b[31m\n",
            "\u001b[0m\u001b[31mERROR: No matching distribution found for libreco\u001b[0m\u001b[31m\n",
            "\u001b[0mRequirement already satisfied: pandas in /usr/local/lib/python3.10/dist-packages (2.0.3)\n",
            "Requirement already satisfied: python-dateutil>=2.8.2 in /usr/local/lib/python3.10/dist-packages (from pandas) (2.8.2)\n",
            "Requirement already satisfied: pytz>=2020.1 in /usr/local/lib/python3.10/dist-packages (from pandas) (2023.4)\n",
            "Requirement already satisfied: tzdata>=2022.1 in /usr/local/lib/python3.10/dist-packages (from pandas) (2024.1)\n",
            "Requirement already satisfied: numpy>=1.21.0 in /usr/local/lib/python3.10/dist-packages (from pandas) (1.25.2)\n",
            "Requirement already satisfied: six>=1.5 in /usr/local/lib/python3.10/dist-packages (from python-dateutil>=2.8.2->pandas) (1.16.0)\n"
          ]
        }
      ]
    },
    {
      "cell_type": "code",
      "source": [
        "# IMport Modules\n",
        "\n",
        "import random\n",
        "import warnings\n",
        "import zipfile\n",
        "from pathlib import Path\n",
        "\n",
        "import pandas as pd\n",
        "from matplotlib import pyplot as plt\n",
        "import seaborn as sns\n",
        "import tensorflow as tf\n",
        "import tqdm\n",
        "\n",
        "warnings.filterwarnings(\"ignore\")"
      ],
      "metadata": {
        "id": "OJlazwF-4HS-"
      },
      "execution_count": null,
      "outputs": []
    },
    {
      "cell_type": "code",
      "source": [
        "# Load Base folder\n",
        "\n",
        "from google.colab import drive\n",
        "drive.mount('/content/drive')\n",
        "\n",
        "BASE_FOLDER = '/content/drive/MyDrive/ProjectDatasets'"
      ],
      "metadata": {
        "id": "ZZpG5RWr4V68",
        "colab": {
          "base_uri": "https://localhost:8080/"
        },
        "outputId": "175fe933-c372-44a5-d5f8-1b2feeda618b"
      },
      "execution_count": null,
      "outputs": [
        {
          "output_type": "stream",
          "name": "stdout",
          "text": [
            "Mounted at /content/drive\n"
          ]
        }
      ]
    },
    {
      "cell_type": "code",
      "execution_count": null,
      "metadata": {
        "id": "jFPgZwJb-0rg",
        "colab": {
          "base_uri": "https://localhost:8080/"
        },
        "outputId": "fae40628-e077-44bc-c39c-f98bf7be93e6"
      },
      "outputs": [
        {
          "output_type": "stream",
          "name": "stdout",
          "text": [
            "Downloading data from http://files.grouplens.org/datasets/movielens/ml-1m.zip\n",
            "5917549/5917549 [==============================] - 0s 0us/step\n"
          ]
        }
      ],
      "source": [
        "## Bring in the Data\n",
        "\n",
        "def load_ml_1m():\n",
        "    # download and extract zip file\n",
        "    tf.keras.utils.get_file(\n",
        "        \"ml-1m.zip\",\n",
        "        \"http://files.grouplens.org/datasets/movielens/ml-1m.zip\",\n",
        "        cache_dir=\".\",\n",
        "        cache_subdir=\".\",\n",
        "        extract=True,\n",
        "    )\n",
        "\n",
        "    # read and merge data into same table\n",
        "    cur_path = Path(\".\").absolute()\n",
        "\n",
        "    #Ratings\n",
        "    ratings = pd.read_csv(\n",
        "        cur_path / \"ml-1m\" / \"ratings.dat\",\n",
        "        sep=\"::\",\n",
        "        usecols=[0, 1, 2, 3],\n",
        "        names=[\"user\", \"item\", \"rating\", \"time\"],\n",
        "    )\n",
        "\n",
        "    #Users\n",
        "    users = pd.read_csv(\n",
        "        cur_path / \"ml-1m\" / \"users.dat\",\n",
        "        sep=\"::\",\n",
        "        usecols=[0, 1, 2, 3],\n",
        "        names=[\"user\", \"sex\", \"age\", \"occupation\"],\n",
        "    )\n",
        "\n",
        "    # Movies\n",
        "    items = pd.read_csv(\n",
        "        cur_path / \"ml-1m\" / \"movies.dat\",\n",
        "        sep=\"::\",\n",
        "        usecols=[0, 2],\n",
        "        names=[\"item\", \"genre\"],\n",
        "        encoding=\"iso-8859-1\",\n",
        "    )\n",
        "\n",
        "    items[[\"genre1\", \"genre2\", \"genre3\"]] = (\n",
        "        items[\"genre\"].str.split(r\"|\", expand=True).fillna(\"missing\").iloc[:, :3]\n",
        "    )\n",
        "\n",
        "    # Remove Duplicates\n",
        "    items.drop(\"genre\", axis=1, inplace=True)\n",
        "\n",
        "    #Merged Data\n",
        "    data = ratings.merge(users, on=\"user\").merge(items, on=\"item\")\n",
        "\n",
        "    #Rename Rating Here as Label\n",
        "    data.rename(columns={\"rating\": \"label\"}, inplace=True)\n",
        "\n",
        "    #data = pd.merge(data, reviews, on='item')\n",
        "\n",
        "    # random shuffle data\n",
        "    data = data.sample(frac=1, random_state=42).reset_index(drop=True)\n",
        "\n",
        "    return data\n",
        "\n",
        "data = load_ml_1m()"
      ]
    },
    {
      "cell_type": "code",
      "source": [
        "data = load_ml_1m()\n",
        "print(\"data shape:\", data.shape)"
      ],
      "metadata": {
        "colab": {
          "base_uri": "https://localhost:8080/"
        },
        "id": "MZp7J-voDwj6",
        "outputId": "a5d3e78b-0b42-45dc-e9b9-e6ef4af6c136"
      },
      "execution_count": null,
      "outputs": [
        {
          "output_type": "stream",
          "name": "stdout",
          "text": [
            "data shape: (1000209, 10)\n"
          ]
        }
      ]
    },
    {
      "cell_type": "code",
      "source": [
        "data.iloc[random.choices(range(len(data)), k=10)]  # randomly select 10 rows"
      ],
      "metadata": {
        "colab": {
          "base_uri": "https://localhost:8080/",
          "height": 362
        },
        "id": "3PejrfCB8uXY",
        "outputId": "5d6a4076-9f63-40ac-edfa-9a750be70c20"
      },
      "execution_count": null,
      "outputs": [
        {
          "output_type": "execute_result",
          "data": {
            "text/plain": [
              "        user  item  label       time sex  age  occupation  genre1   genre2  \\\n",
              "785776  4980  3246      4  962603804   M   25           1   Drama  missing   \n",
              "924959  2570  2858      3  973911865   F   56          14  Comedy    Drama   \n",
              "824137  5686   898      2  958688096   M   56          16  Comedy  Romance   \n",
              "889482   676   466      4  975650215   M   18          16  Action   Comedy   \n",
              "845476  4326  3108      5  965245152   F   45          13  Comedy    Drama   \n",
              "940154   875   562      5  975271282   M    1          10  Comedy    Drama   \n",
              "906176  2446  2174      4  974404994   M   18           7  Comedy  Fantasy   \n",
              "838470  1560  2944      4  998153908   F   25           3  Action      War   \n",
              "664137   352   802      4  976333315   M   18           4   Drama  Romance   \n",
              "980869  5644   527      5  958880791   F   18           4   Drama      War   \n",
              "\n",
              "         genre3  \n",
              "785776  missing  \n",
              "924959  missing  \n",
              "824137  missing  \n",
              "889482      War  \n",
              "845476  Romance  \n",
              "940154  missing  \n",
              "906176  missing  \n",
              "838470  missing  \n",
              "664137  missing  \n",
              "980869  missing  "
            ],
            "text/html": [
              "\n",
              "  <div id=\"df-c7953a4d-ada6-4bb4-abf3-cdf4cc0313c8\" class=\"colab-df-container\">\n",
              "    <div>\n",
              "<style scoped>\n",
              "    .dataframe tbody tr th:only-of-type {\n",
              "        vertical-align: middle;\n",
              "    }\n",
              "\n",
              "    .dataframe tbody tr th {\n",
              "        vertical-align: top;\n",
              "    }\n",
              "\n",
              "    .dataframe thead th {\n",
              "        text-align: right;\n",
              "    }\n",
              "</style>\n",
              "<table border=\"1\" class=\"dataframe\">\n",
              "  <thead>\n",
              "    <tr style=\"text-align: right;\">\n",
              "      <th></th>\n",
              "      <th>user</th>\n",
              "      <th>item</th>\n",
              "      <th>label</th>\n",
              "      <th>time</th>\n",
              "      <th>sex</th>\n",
              "      <th>age</th>\n",
              "      <th>occupation</th>\n",
              "      <th>genre1</th>\n",
              "      <th>genre2</th>\n",
              "      <th>genre3</th>\n",
              "    </tr>\n",
              "  </thead>\n",
              "  <tbody>\n",
              "    <tr>\n",
              "      <th>785776</th>\n",
              "      <td>4980</td>\n",
              "      <td>3246</td>\n",
              "      <td>4</td>\n",
              "      <td>962603804</td>\n",
              "      <td>M</td>\n",
              "      <td>25</td>\n",
              "      <td>1</td>\n",
              "      <td>Drama</td>\n",
              "      <td>missing</td>\n",
              "      <td>missing</td>\n",
              "    </tr>\n",
              "    <tr>\n",
              "      <th>924959</th>\n",
              "      <td>2570</td>\n",
              "      <td>2858</td>\n",
              "      <td>3</td>\n",
              "      <td>973911865</td>\n",
              "      <td>F</td>\n",
              "      <td>56</td>\n",
              "      <td>14</td>\n",
              "      <td>Comedy</td>\n",
              "      <td>Drama</td>\n",
              "      <td>missing</td>\n",
              "    </tr>\n",
              "    <tr>\n",
              "      <th>824137</th>\n",
              "      <td>5686</td>\n",
              "      <td>898</td>\n",
              "      <td>2</td>\n",
              "      <td>958688096</td>\n",
              "      <td>M</td>\n",
              "      <td>56</td>\n",
              "      <td>16</td>\n",
              "      <td>Comedy</td>\n",
              "      <td>Romance</td>\n",
              "      <td>missing</td>\n",
              "    </tr>\n",
              "    <tr>\n",
              "      <th>889482</th>\n",
              "      <td>676</td>\n",
              "      <td>466</td>\n",
              "      <td>4</td>\n",
              "      <td>975650215</td>\n",
              "      <td>M</td>\n",
              "      <td>18</td>\n",
              "      <td>16</td>\n",
              "      <td>Action</td>\n",
              "      <td>Comedy</td>\n",
              "      <td>War</td>\n",
              "    </tr>\n",
              "    <tr>\n",
              "      <th>845476</th>\n",
              "      <td>4326</td>\n",
              "      <td>3108</td>\n",
              "      <td>5</td>\n",
              "      <td>965245152</td>\n",
              "      <td>F</td>\n",
              "      <td>45</td>\n",
              "      <td>13</td>\n",
              "      <td>Comedy</td>\n",
              "      <td>Drama</td>\n",
              "      <td>Romance</td>\n",
              "    </tr>\n",
              "    <tr>\n",
              "      <th>940154</th>\n",
              "      <td>875</td>\n",
              "      <td>562</td>\n",
              "      <td>5</td>\n",
              "      <td>975271282</td>\n",
              "      <td>M</td>\n",
              "      <td>1</td>\n",
              "      <td>10</td>\n",
              "      <td>Comedy</td>\n",
              "      <td>Drama</td>\n",
              "      <td>missing</td>\n",
              "    </tr>\n",
              "    <tr>\n",
              "      <th>906176</th>\n",
              "      <td>2446</td>\n",
              "      <td>2174</td>\n",
              "      <td>4</td>\n",
              "      <td>974404994</td>\n",
              "      <td>M</td>\n",
              "      <td>18</td>\n",
              "      <td>7</td>\n",
              "      <td>Comedy</td>\n",
              "      <td>Fantasy</td>\n",
              "      <td>missing</td>\n",
              "    </tr>\n",
              "    <tr>\n",
              "      <th>838470</th>\n",
              "      <td>1560</td>\n",
              "      <td>2944</td>\n",
              "      <td>4</td>\n",
              "      <td>998153908</td>\n",
              "      <td>F</td>\n",
              "      <td>25</td>\n",
              "      <td>3</td>\n",
              "      <td>Action</td>\n",
              "      <td>War</td>\n",
              "      <td>missing</td>\n",
              "    </tr>\n",
              "    <tr>\n",
              "      <th>664137</th>\n",
              "      <td>352</td>\n",
              "      <td>802</td>\n",
              "      <td>4</td>\n",
              "      <td>976333315</td>\n",
              "      <td>M</td>\n",
              "      <td>18</td>\n",
              "      <td>4</td>\n",
              "      <td>Drama</td>\n",
              "      <td>Romance</td>\n",
              "      <td>missing</td>\n",
              "    </tr>\n",
              "    <tr>\n",
              "      <th>980869</th>\n",
              "      <td>5644</td>\n",
              "      <td>527</td>\n",
              "      <td>5</td>\n",
              "      <td>958880791</td>\n",
              "      <td>F</td>\n",
              "      <td>18</td>\n",
              "      <td>4</td>\n",
              "      <td>Drama</td>\n",
              "      <td>War</td>\n",
              "      <td>missing</td>\n",
              "    </tr>\n",
              "  </tbody>\n",
              "</table>\n",
              "</div>\n",
              "    <div class=\"colab-df-buttons\">\n",
              "\n",
              "  <div class=\"colab-df-container\">\n",
              "    <button class=\"colab-df-convert\" onclick=\"convertToInteractive('df-c7953a4d-ada6-4bb4-abf3-cdf4cc0313c8')\"\n",
              "            title=\"Convert this dataframe to an interactive table.\"\n",
              "            style=\"display:none;\">\n",
              "\n",
              "  <svg xmlns=\"http://www.w3.org/2000/svg\" height=\"24px\" viewBox=\"0 -960 960 960\">\n",
              "    <path d=\"M120-120v-720h720v720H120Zm60-500h600v-160H180v160Zm220 220h160v-160H400v160Zm0 220h160v-160H400v160ZM180-400h160v-160H180v160Zm440 0h160v-160H620v160ZM180-180h160v-160H180v160Zm440 0h160v-160H620v160Z\"/>\n",
              "  </svg>\n",
              "    </button>\n",
              "\n",
              "  <style>\n",
              "    .colab-df-container {\n",
              "      display:flex;\n",
              "      gap: 12px;\n",
              "    }\n",
              "\n",
              "    .colab-df-convert {\n",
              "      background-color: #E8F0FE;\n",
              "      border: none;\n",
              "      border-radius: 50%;\n",
              "      cursor: pointer;\n",
              "      display: none;\n",
              "      fill: #1967D2;\n",
              "      height: 32px;\n",
              "      padding: 0 0 0 0;\n",
              "      width: 32px;\n",
              "    }\n",
              "\n",
              "    .colab-df-convert:hover {\n",
              "      background-color: #E2EBFA;\n",
              "      box-shadow: 0px 1px 2px rgba(60, 64, 67, 0.3), 0px 1px 3px 1px rgba(60, 64, 67, 0.15);\n",
              "      fill: #174EA6;\n",
              "    }\n",
              "\n",
              "    .colab-df-buttons div {\n",
              "      margin-bottom: 4px;\n",
              "    }\n",
              "\n",
              "    [theme=dark] .colab-df-convert {\n",
              "      background-color: #3B4455;\n",
              "      fill: #D2E3FC;\n",
              "    }\n",
              "\n",
              "    [theme=dark] .colab-df-convert:hover {\n",
              "      background-color: #434B5C;\n",
              "      box-shadow: 0px 1px 3px 1px rgba(0, 0, 0, 0.15);\n",
              "      filter: drop-shadow(0px 1px 2px rgba(0, 0, 0, 0.3));\n",
              "      fill: #FFFFFF;\n",
              "    }\n",
              "  </style>\n",
              "\n",
              "    <script>\n",
              "      const buttonEl =\n",
              "        document.querySelector('#df-c7953a4d-ada6-4bb4-abf3-cdf4cc0313c8 button.colab-df-convert');\n",
              "      buttonEl.style.display =\n",
              "        google.colab.kernel.accessAllowed ? 'block' : 'none';\n",
              "\n",
              "      async function convertToInteractive(key) {\n",
              "        const element = document.querySelector('#df-c7953a4d-ada6-4bb4-abf3-cdf4cc0313c8');\n",
              "        const dataTable =\n",
              "          await google.colab.kernel.invokeFunction('convertToInteractive',\n",
              "                                                    [key], {});\n",
              "        if (!dataTable) return;\n",
              "\n",
              "        const docLinkHtml = 'Like what you see? Visit the ' +\n",
              "          '<a target=\"_blank\" href=https://colab.research.google.com/notebooks/data_table.ipynb>data table notebook</a>'\n",
              "          + ' to learn more about interactive tables.';\n",
              "        element.innerHTML = '';\n",
              "        dataTable['output_type'] = 'display_data';\n",
              "        await google.colab.output.renderOutput(dataTable, element);\n",
              "        const docLink = document.createElement('div');\n",
              "        docLink.innerHTML = docLinkHtml;\n",
              "        element.appendChild(docLink);\n",
              "      }\n",
              "    </script>\n",
              "  </div>\n",
              "\n",
              "\n",
              "<div id=\"df-87179732-2e22-4e86-adea-1fb1d05ba9ff\">\n",
              "  <button class=\"colab-df-quickchart\" onclick=\"quickchart('df-87179732-2e22-4e86-adea-1fb1d05ba9ff')\"\n",
              "            title=\"Suggest charts\"\n",
              "            style=\"display:none;\">\n",
              "\n",
              "<svg xmlns=\"http://www.w3.org/2000/svg\" height=\"24px\"viewBox=\"0 0 24 24\"\n",
              "     width=\"24px\">\n",
              "    <g>\n",
              "        <path d=\"M19 3H5c-1.1 0-2 .9-2 2v14c0 1.1.9 2 2 2h14c1.1 0 2-.9 2-2V5c0-1.1-.9-2-2-2zM9 17H7v-7h2v7zm4 0h-2V7h2v10zm4 0h-2v-4h2v4z\"/>\n",
              "    </g>\n",
              "</svg>\n",
              "  </button>\n",
              "\n",
              "<style>\n",
              "  .colab-df-quickchart {\n",
              "      --bg-color: #E8F0FE;\n",
              "      --fill-color: #1967D2;\n",
              "      --hover-bg-color: #E2EBFA;\n",
              "      --hover-fill-color: #174EA6;\n",
              "      --disabled-fill-color: #AAA;\n",
              "      --disabled-bg-color: #DDD;\n",
              "  }\n",
              "\n",
              "  [theme=dark] .colab-df-quickchart {\n",
              "      --bg-color: #3B4455;\n",
              "      --fill-color: #D2E3FC;\n",
              "      --hover-bg-color: #434B5C;\n",
              "      --hover-fill-color: #FFFFFF;\n",
              "      --disabled-bg-color: #3B4455;\n",
              "      --disabled-fill-color: #666;\n",
              "  }\n",
              "\n",
              "  .colab-df-quickchart {\n",
              "    background-color: var(--bg-color);\n",
              "    border: none;\n",
              "    border-radius: 50%;\n",
              "    cursor: pointer;\n",
              "    display: none;\n",
              "    fill: var(--fill-color);\n",
              "    height: 32px;\n",
              "    padding: 0;\n",
              "    width: 32px;\n",
              "  }\n",
              "\n",
              "  .colab-df-quickchart:hover {\n",
              "    background-color: var(--hover-bg-color);\n",
              "    box-shadow: 0 1px 2px rgba(60, 64, 67, 0.3), 0 1px 3px 1px rgba(60, 64, 67, 0.15);\n",
              "    fill: var(--button-hover-fill-color);\n",
              "  }\n",
              "\n",
              "  .colab-df-quickchart-complete:disabled,\n",
              "  .colab-df-quickchart-complete:disabled:hover {\n",
              "    background-color: var(--disabled-bg-color);\n",
              "    fill: var(--disabled-fill-color);\n",
              "    box-shadow: none;\n",
              "  }\n",
              "\n",
              "  .colab-df-spinner {\n",
              "    border: 2px solid var(--fill-color);\n",
              "    border-color: transparent;\n",
              "    border-bottom-color: var(--fill-color);\n",
              "    animation:\n",
              "      spin 1s steps(1) infinite;\n",
              "  }\n",
              "\n",
              "  @keyframes spin {\n",
              "    0% {\n",
              "      border-color: transparent;\n",
              "      border-bottom-color: var(--fill-color);\n",
              "      border-left-color: var(--fill-color);\n",
              "    }\n",
              "    20% {\n",
              "      border-color: transparent;\n",
              "      border-left-color: var(--fill-color);\n",
              "      border-top-color: var(--fill-color);\n",
              "    }\n",
              "    30% {\n",
              "      border-color: transparent;\n",
              "      border-left-color: var(--fill-color);\n",
              "      border-top-color: var(--fill-color);\n",
              "      border-right-color: var(--fill-color);\n",
              "    }\n",
              "    40% {\n",
              "      border-color: transparent;\n",
              "      border-right-color: var(--fill-color);\n",
              "      border-top-color: var(--fill-color);\n",
              "    }\n",
              "    60% {\n",
              "      border-color: transparent;\n",
              "      border-right-color: var(--fill-color);\n",
              "    }\n",
              "    80% {\n",
              "      border-color: transparent;\n",
              "      border-right-color: var(--fill-color);\n",
              "      border-bottom-color: var(--fill-color);\n",
              "    }\n",
              "    90% {\n",
              "      border-color: transparent;\n",
              "      border-bottom-color: var(--fill-color);\n",
              "    }\n",
              "  }\n",
              "</style>\n",
              "\n",
              "  <script>\n",
              "    async function quickchart(key) {\n",
              "      const quickchartButtonEl =\n",
              "        document.querySelector('#' + key + ' button');\n",
              "      quickchartButtonEl.disabled = true;  // To prevent multiple clicks.\n",
              "      quickchartButtonEl.classList.add('colab-df-spinner');\n",
              "      try {\n",
              "        const charts = await google.colab.kernel.invokeFunction(\n",
              "            'suggestCharts', [key], {});\n",
              "      } catch (error) {\n",
              "        console.error('Error during call to suggestCharts:', error);\n",
              "      }\n",
              "      quickchartButtonEl.classList.remove('colab-df-spinner');\n",
              "      quickchartButtonEl.classList.add('colab-df-quickchart-complete');\n",
              "    }\n",
              "    (() => {\n",
              "      let quickchartButtonEl =\n",
              "        document.querySelector('#df-87179732-2e22-4e86-adea-1fb1d05ba9ff button');\n",
              "      quickchartButtonEl.style.display =\n",
              "        google.colab.kernel.accessAllowed ? 'block' : 'none';\n",
              "    })();\n",
              "  </script>\n",
              "</div>\n",
              "\n",
              "    </div>\n",
              "  </div>\n"
            ],
            "application/vnd.google.colaboratory.intrinsic+json": {
              "type": "dataframe",
              "summary": "{\n  \"name\": \"data\",\n  \"rows\": 10,\n  \"fields\": [\n    {\n      \"column\": \"user\",\n      \"properties\": {\n        \"dtype\": \"number\",\n        \"std\": 2089,\n        \"min\": 352,\n        \"max\": 5686,\n        \"num_unique_values\": 10,\n        \"samples\": [\n          352,\n          2570,\n          875\n        ],\n        \"semantic_type\": \"\",\n        \"description\": \"\"\n      }\n    },\n    {\n      \"column\": \"item\",\n      \"properties\": {\n        \"dtype\": \"number\",\n        \"std\": 1206,\n        \"min\": 466,\n        \"max\": 3246,\n        \"num_unique_values\": 10,\n        \"samples\": [\n          802,\n          2858,\n          562\n        ],\n        \"semantic_type\": \"\",\n        \"description\": \"\"\n      }\n    },\n    {\n      \"column\": \"label\",\n      \"properties\": {\n        \"dtype\": \"number\",\n        \"std\": 0,\n        \"min\": 2,\n        \"max\": 5,\n        \"num_unique_values\": 4,\n        \"samples\": [\n          3,\n          5,\n          4\n        ],\n        \"semantic_type\": \"\",\n        \"description\": \"\"\n      }\n    },\n    {\n      \"column\": \"time\",\n      \"properties\": {\n        \"dtype\": \"number\",\n        \"std\": 11640125,\n        \"min\": 958688096,\n        \"max\": 998153908,\n        \"num_unique_values\": 10,\n        \"samples\": [\n          976333315,\n          973911865,\n          975271282\n        ],\n        \"semantic_type\": \"\",\n        \"description\": \"\"\n      }\n    },\n    {\n      \"column\": \"sex\",\n      \"properties\": {\n        \"dtype\": \"category\",\n        \"num_unique_values\": 2,\n        \"samples\": [\n          \"F\",\n          \"M\"\n        ],\n        \"semantic_type\": \"\",\n        \"description\": \"\"\n      }\n    },\n    {\n      \"column\": \"age\",\n      \"properties\": {\n        \"dtype\": \"number\",\n        \"std\": 18,\n        \"min\": 1,\n        \"max\": 56,\n        \"num_unique_values\": 5,\n        \"samples\": [\n          56,\n          1\n        ],\n        \"semantic_type\": \"\",\n        \"description\": \"\"\n      }\n    },\n    {\n      \"column\": \"occupation\",\n      \"properties\": {\n        \"dtype\": \"number\",\n        \"std\": 5,\n        \"min\": 1,\n        \"max\": 16,\n        \"num_unique_values\": 8,\n        \"samples\": [\n          14,\n          7\n        ],\n        \"semantic_type\": \"\",\n        \"description\": \"\"\n      }\n    },\n    {\n      \"column\": \"genre1\",\n      \"properties\": {\n        \"dtype\": \"category\",\n        \"num_unique_values\": 3,\n        \"samples\": [\n          \"Drama\",\n          \"Comedy\"\n        ],\n        \"semantic_type\": \"\",\n        \"description\": \"\"\n      }\n    },\n    {\n      \"column\": \"genre2\",\n      \"properties\": {\n        \"dtype\": \"string\",\n        \"num_unique_values\": 6,\n        \"samples\": [\n          \"missing\",\n          \"Drama\"\n        ],\n        \"semantic_type\": \"\",\n        \"description\": \"\"\n      }\n    },\n    {\n      \"column\": \"genre3\",\n      \"properties\": {\n        \"dtype\": \"category\",\n        \"num_unique_values\": 3,\n        \"samples\": [\n          \"missing\",\n          \"War\"\n        ],\n        \"semantic_type\": \"\",\n        \"description\": \"\"\n      }\n    }\n  ]\n}"
            }
          },
          "metadata": {},
          "execution_count": 23
        }
      ]
    },
    {
      "cell_type": "markdown",
      "source": [
        "Load Dataset (with sentiment scores)"
      ],
      "metadata": {
        "id": "dwcTwecM94a7"
      }
    },
    {
      "cell_type": "code",
      "source": [
        "final_data = pd.read_csv('/content/drive/MyDrive/ProjectDatasets/imdb/scored/one_million_df_with_scores.csv') # file with sentiment scores"
      ],
      "metadata": {
        "id": "4x5waPjKR_kU"
      },
      "execution_count": 13,
      "outputs": []
    },
    {
      "cell_type": "code",
      "source": [
        "# Check the shape\n",
        "final_data.shape"
      ],
      "metadata": {
        "colab": {
          "base_uri": "https://localhost:8080/"
        },
        "id": "QYHI0R_lK3N5",
        "outputId": "b1fd1b36-941c-457e-d792-2406cf959698"
      },
      "execution_count": 14,
      "outputs": [
        {
          "output_type": "execute_result",
          "data": {
            "text/plain": [
              "(1000191, 11)"
            ]
          },
          "metadata": {},
          "execution_count": 14
        }
      ]
    },
    {
      "cell_type": "markdown",
      "source": [
        "Scores vs MovieID Distribution"
      ],
      "metadata": {
        "id": "f7Uiby0FUwMZ"
      }
    },
    {
      "source": [
        "from matplotlib import pyplot as plt\n",
        "final_data.plot(kind='scatter', x='time', y='age', s=32, alpha=.8)\n",
        "plt.gca().spines[['top', 'right',]].set_visible(False)"
      ],
      "cell_type": "code",
      "metadata": {
        "colab": {
          "base_uri": "https://localhost:8080/",
          "height": 449
        },
        "id": "fe57kekjEllK",
        "outputId": "a6b709b1-f4d3-485d-c36f-e5774bdc58e3"
      },
      "execution_count": null,
      "outputs": [
        {
          "output_type": "display_data",
          "data": {
            "text/plain": [
              "<Figure size 640x480 with 1 Axes>"
            ],
            "image/png": "[encoded data removed]"
          },
          "metadata": {}
        }
      ]
    },
    {
      "cell_type": "code",
      "source": [
        "final_data.sample(10)"
      ],
      "metadata": {
        "colab": {
          "base_uri": "https://localhost:8080/",
          "height": 362
        },
        "id": "xkqsldTVSYqO",
        "outputId": "f0a463b9-7822-458a-eef4-684a1ef11fdd"
      },
      "execution_count": 33,
      "outputs": [
        {
          "output_type": "execute_result",
          "data": {
            "text/plain": [
              "        user  item  age      genre1      genre2   genre3  label  occupation  \\\n",
              "247728  1697  2058   18      Action    Thriller  missing      4           4   \n",
              "658443  2868  3578   35      Action       Drama  missing      4          12   \n",
              "47693   3378  3701   18       Crime       Drama   Sci-Fi      4           4   \n",
              "874973  4607  1404   25       Crime       Drama  missing      3           0   \n",
              "417766  3311  2082   25  Children's      Comedy  missing      3           4   \n",
              "698969  1722  3017   35      Horror     missing  missing      3           0   \n",
              "25084    451   904   56     Mystery    Thriller  missing      5          13   \n",
              "374132  3526   387   35      Action      Comedy  missing      3           2   \n",
              "328308  2907  3507   35      Comedy     missing  missing      4           5   \n",
              "618085  1850    48   18   Animation  Children's  Musical      4           5   \n",
              "\n",
              "        scores sex       time  \n",
              "247728       4   F  974709601  \n",
              "658443       0   M  992717649  \n",
              "47693        3   M  967757530  \n",
              "874973       1   M  998919752  \n",
              "417766       0   M  967959719  \n",
              "698969       0   M  974707112  \n",
              "25084        0   M  976415003  \n",
              "374132       3   M  966904746  \n",
              "328308       1   F  971841563  \n",
              "618085       2   M  974697762  "
            ],
            "text/html": [
              "\n",
              "  <div id=\"df-7c96f9c7-c851-48c9-bccd-b0e63542fa00\" class=\"colab-df-container\">\n",
              "    <div>\n",
              "<style scoped>\n",
              "    .dataframe tbody tr th:only-of-type {\n",
              "        vertical-align: middle;\n",
              "    }\n",
              "\n",
              "    .dataframe tbody tr th {\n",
              "        vertical-align: top;\n",
              "    }\n",
              "\n",
              "    .dataframe thead th {\n",
              "        text-align: right;\n",
              "    }\n",
              "</style>\n",
              "<table border=\"1\" class=\"dataframe\">\n",
              "  <thead>\n",
              "    <tr style=\"text-align: right;\">\n",
              "      <th></th>\n",
              "      <th>user</th>\n",
              "      <th>item</th>\n",
              "      <th>age</th>\n",
              "      <th>genre1</th>\n",
              "      <th>genre2</th>\n",
              "      <th>genre3</th>\n",
              "      <th>label</th>\n",
              "      <th>occupation</th>\n",
              "      <th>scores</th>\n",
              "      <th>sex</th>\n",
              "      <th>time</th>\n",
              "    </tr>\n",
              "  </thead>\n",
              "  <tbody>\n",
              "    <tr>\n",
              "      <th>247728</th>\n",
              "      <td>1697</td>\n",
              "      <td>2058</td>\n",
              "      <td>18</td>\n",
              "      <td>Action</td>\n",
              "      <td>Thriller</td>\n",
              "      <td>missing</td>\n",
              "      <td>4</td>\n",
              "      <td>4</td>\n",
              "      <td>4</td>\n",
              "      <td>F</td>\n",
              "      <td>974709601</td>\n",
              "    </tr>\n",
              "    <tr>\n",
              "      <th>658443</th>\n",
              "      <td>2868</td>\n",
              "      <td>3578</td>\n",
              "      <td>35</td>\n",
              "      <td>Action</td>\n",
              "      <td>Drama</td>\n",
              "      <td>missing</td>\n",
              "      <td>4</td>\n",
              "      <td>12</td>\n",
              "      <td>0</td>\n",
              "      <td>M</td>\n",
              "      <td>992717649</td>\n",
              "    </tr>\n",
              "    <tr>\n",
              "      <th>47693</th>\n",
              "      <td>3378</td>\n",
              "      <td>3701</td>\n",
              "      <td>18</td>\n",
              "      <td>Crime</td>\n",
              "      <td>Drama</td>\n",
              "      <td>Sci-Fi</td>\n",
              "      <td>4</td>\n",
              "      <td>4</td>\n",
              "      <td>3</td>\n",
              "      <td>M</td>\n",
              "      <td>967757530</td>\n",
              "    </tr>\n",
              "    <tr>\n",
              "      <th>874973</th>\n",
              "      <td>4607</td>\n",
              "      <td>1404</td>\n",
              "      <td>25</td>\n",
              "      <td>Crime</td>\n",
              "      <td>Drama</td>\n",
              "      <td>missing</td>\n",
              "      <td>3</td>\n",
              "      <td>0</td>\n",
              "      <td>1</td>\n",
              "      <td>M</td>\n",
              "      <td>998919752</td>\n",
              "    </tr>\n",
              "    <tr>\n",
              "      <th>417766</th>\n",
              "      <td>3311</td>\n",
              "      <td>2082</td>\n",
              "      <td>25</td>\n",
              "      <td>Children's</td>\n",
              "      <td>Comedy</td>\n",
              "      <td>missing</td>\n",
              "      <td>3</td>\n",
              "      <td>4</td>\n",
              "      <td>0</td>\n",
              "      <td>M</td>\n",
              "      <td>967959719</td>\n",
              "    </tr>\n",
              "    <tr>\n",
              "      <th>698969</th>\n",
              "      <td>1722</td>\n",
              "      <td>3017</td>\n",
              "      <td>35</td>\n",
              "      <td>Horror</td>\n",
              "      <td>missing</td>\n",
              "      <td>missing</td>\n",
              "      <td>3</td>\n",
              "      <td>0</td>\n",
              "      <td>0</td>\n",
              "      <td>M</td>\n",
              "      <td>974707112</td>\n",
              "    </tr>\n",
              "    <tr>\n",
              "      <th>25084</th>\n",
              "      <td>451</td>\n",
              "      <td>904</td>\n",
              "      <td>56</td>\n",
              "      <td>Mystery</td>\n",
              "      <td>Thriller</td>\n",
              "      <td>missing</td>\n",
              "      <td>5</td>\n",
              "      <td>13</td>\n",
              "      <td>0</td>\n",
              "      <td>M</td>\n",
              "      <td>976415003</td>\n",
              "    </tr>\n",
              "    <tr>\n",
              "      <th>374132</th>\n",
              "      <td>3526</td>\n",
              "      <td>387</td>\n",
              "      <td>35</td>\n",
              "      <td>Action</td>\n",
              "      <td>Comedy</td>\n",
              "      <td>missing</td>\n",
              "      <td>3</td>\n",
              "      <td>2</td>\n",
              "      <td>3</td>\n",
              "      <td>M</td>\n",
              "      <td>966904746</td>\n",
              "    </tr>\n",
              "    <tr>\n",
              "      <th>328308</th>\n",
              "      <td>2907</td>\n",
              "      <td>3507</td>\n",
              "      <td>35</td>\n",
              "      <td>Comedy</td>\n",
              "      <td>missing</td>\n",
              "      <td>missing</td>\n",
              "      <td>4</td>\n",
              "      <td>5</td>\n",
              "      <td>1</td>\n",
              "      <td>F</td>\n",
              "      <td>971841563</td>\n",
              "    </tr>\n",
              "    <tr>\n",
              "      <th>618085</th>\n",
              "      <td>1850</td>\n",
              "      <td>48</td>\n",
              "      <td>18</td>\n",
              "      <td>Animation</td>\n",
              "      <td>Children's</td>\n",
              "      <td>Musical</td>\n",
              "      <td>4</td>\n",
              "      <td>5</td>\n",
              "      <td>2</td>\n",
              "      <td>M</td>\n",
              "      <td>974697762</td>\n",
              "    </tr>\n",
              "  </tbody>\n",
              "</table>\n",
              "</div>\n",
              "    <div class=\"colab-df-buttons\">\n",
              "\n",
              "  <div class=\"colab-df-container\">\n",
              "    <button class=\"colab-df-convert\" onclick=\"convertToInteractive('df-7c96f9c7-c851-48c9-bccd-b0e63542fa00')\"\n",
              "            title=\"Convert this dataframe to an interactive table.\"\n",
              "            style=\"display:none;\">\n",
              "\n",
              "  <svg xmlns=\"http://www.w3.org/2000/svg\" height=\"24px\" viewBox=\"0 -960 960 960\">\n",
              "    <path d=\"M120-120v-720h720v720H120Zm60-500h600v-160H180v160Zm220 220h160v-160H400v160Zm0 220h160v-160H400v160ZM180-400h160v-160H180v160Zm440 0h160v-160H620v160ZM180-180h160v-160H180v160Zm440 0h160v-160H620v160Z\"/>\n",
              "  </svg>\n",
              "    </button>\n",
              "\n",
              "  <style>\n",
              "    .colab-df-container {\n",
              "      display:flex;\n",
              "      gap: 12px;\n",
              "    }\n",
              "\n",
              "    .colab-df-convert {\n",
              "      background-color: #E8F0FE;\n",
              "      border: none;\n",
              "      border-radius: 50%;\n",
              "      cursor: pointer;\n",
              "      display: none;\n",
              "      fill: #1967D2;\n",
              "      height: 32px;\n",
              "      padding: 0 0 0 0;\n",
              "      width: 32px;\n",
              "    }\n",
              "\n",
              "    .colab-df-convert:hover {\n",
              "      background-color: #E2EBFA;\n",
              "      box-shadow: 0px 1px 2px rgba(60, 64, 67, 0.3), 0px 1px 3px 1px rgba(60, 64, 67, 0.15);\n",
              "      fill: #174EA6;\n",
              "    }\n",
              "\n",
              "    .colab-df-buttons div {\n",
              "      margin-bottom: 4px;\n",
              "    }\n",
              "\n",
              "    [theme=dark] .colab-df-convert {\n",
              "      background-color: #3B4455;\n",
              "      fill: #D2E3FC;\n",
              "    }\n",
              "\n",
              "    [theme=dark] .colab-df-convert:hover {\n",
              "      background-color: #434B5C;\n",
              "      box-shadow: 0px 1px 3px 1px rgba(0, 0, 0, 0.15);\n",
              "      filter: drop-shadow(0px 1px 2px rgba(0, 0, 0, 0.3));\n",
              "      fill: #FFFFFF;\n",
              "    }\n",
              "  </style>\n",
              "\n",
              "    <script>\n",
              "      const buttonEl =\n",
              "        document.querySelector('#df-7c96f9c7-c851-48c9-bccd-b0e63542fa00 button.colab-df-convert');\n",
              "      buttonEl.style.display =\n",
              "        google.colab.kernel.accessAllowed ? 'block' : 'none';\n",
              "\n",
              "      async function convertToInteractive(key) {\n",
              "        const element = document.querySelector('#df-7c96f9c7-c851-48c9-bccd-b0e63542fa00');\n",
              "        const dataTable =\n",
              "          await google.colab.kernel.invokeFunction('convertToInteractive',\n",
              "                                                    [key], {});\n",
              "        if (!dataTable) return;\n",
              "\n",
              "        const docLinkHtml = 'Like what you see? Visit the ' +\n",
              "          '<a target=\"_blank\" href=https://colab.research.google.com/notebooks/data_table.ipynb>data table notebook</a>'\n",
              "          + ' to learn more about interactive tables.';\n",
              "        element.innerHTML = '';\n",
              "        dataTable['output_type'] = 'display_data';\n",
              "        await google.colab.output.renderOutput(dataTable, element);\n",
              "        const docLink = document.createElement('div');\n",
              "        docLink.innerHTML = docLinkHtml;\n",
              "        element.appendChild(docLink);\n",
              "      }\n",
              "    </script>\n",
              "  </div>\n",
              "\n",
              "\n",
              "<div id=\"df-f4b58478-a8fc-491d-81a7-7021b2768aab\">\n",
              "  <button class=\"colab-df-quickchart\" onclick=\"quickchart('df-f4b58478-a8fc-491d-81a7-7021b2768aab')\"\n",
              "            title=\"Suggest charts\"\n",
              "            style=\"display:none;\">\n",
              "\n",
              "<svg xmlns=\"http://www.w3.org/2000/svg\" height=\"24px\"viewBox=\"0 0 24 24\"\n",
              "     width=\"24px\">\n",
              "    <g>\n",
              "        <path d=\"M19 3H5c-1.1 0-2 .9-2 2v14c0 1.1.9 2 2 2h14c1.1 0 2-.9 2-2V5c0-1.1-.9-2-2-2zM9 17H7v-7h2v7zm4 0h-2V7h2v10zm4 0h-2v-4h2v4z\"/>\n",
              "    </g>\n",
              "</svg>\n",
              "  </button>\n",
              "\n",
              "<style>\n",
              "  .colab-df-quickchart {\n",
              "      --bg-color: #E8F0FE;\n",
              "      --fill-color: #1967D2;\n",
              "      --hover-bg-color: #E2EBFA;\n",
              "      --hover-fill-color: #174EA6;\n",
              "      --disabled-fill-color: #AAA;\n",
              "      --disabled-bg-color: #DDD;\n",
              "  }\n",
              "\n",
              "  [theme=dark] .colab-df-quickchart {\n",
              "      --bg-color: #3B4455;\n",
              "      --fill-color: #D2E3FC;\n",
              "      --hover-bg-color: #434B5C;\n",
              "      --hover-fill-color: #FFFFFF;\n",
              "      --disabled-bg-color: #3B4455;\n",
              "      --disabled-fill-color: #666;\n",
              "  }\n",
              "\n",
              "  .colab-df-quickchart {\n",
              "    background-color: var(--bg-color);\n",
              "    border: none;\n",
              "    border-radius: 50%;\n",
              "    cursor: pointer;\n",
              "    display: none;\n",
              "    fill: var(--fill-color);\n",
              "    height: 32px;\n",
              "    padding: 0;\n",
              "    width: 32px;\n",
              "  }\n",
              "\n",
              "  .colab-df-quickchart:hover {\n",
              "    background-color: var(--hover-bg-color);\n",
              "    box-shadow: 0 1px 2px rgba(60, 64, 67, 0.3), 0 1px 3px 1px rgba(60, 64, 67, 0.15);\n",
              "    fill: var(--button-hover-fill-color);\n",
              "  }\n",
              "\n",
              "  .colab-df-quickchart-complete:disabled,\n",
              "  .colab-df-quickchart-complete:disabled:hover {\n",
              "    background-color: var(--disabled-bg-color);\n",
              "    fill: var(--disabled-fill-color);\n",
              "    box-shadow: none;\n",
              "  }\n",
              "\n",
              "  .colab-df-spinner {\n",
              "    border: 2px solid var(--fill-color);\n",
              "    border-color: transparent;\n",
              "    border-bottom-color: var(--fill-color);\n",
              "    animation:\n",
              "      spin 1s steps(1) infinite;\n",
              "  }\n",
              "\n",
              "  @keyframes spin {\n",
              "    0% {\n",
              "      border-color: transparent;\n",
              "      border-bottom-color: var(--fill-color);\n",
              "      border-left-color: var(--fill-color);\n",
              "    }\n",
              "    20% {\n",
              "      border-color: transparent;\n",
              "      border-left-color: var(--fill-color);\n",
              "      border-top-color: var(--fill-color);\n",
              "    }\n",
              "    30% {\n",
              "      border-color: transparent;\n",
              "      border-left-color: var(--fill-color);\n",
              "      border-top-color: var(--fill-color);\n",
              "      border-right-color: var(--fill-color);\n",
              "    }\n",
              "    40% {\n",
              "      border-color: transparent;\n",
              "      border-right-color: var(--fill-color);\n",
              "      border-top-color: var(--fill-color);\n",
              "    }\n",
              "    60% {\n",
              "      border-color: transparent;\n",
              "      border-right-color: var(--fill-color);\n",
              "    }\n",
              "    80% {\n",
              "      border-color: transparent;\n",
              "      border-right-color: var(--fill-color);\n",
              "      border-bottom-color: var(--fill-color);\n",
              "    }\n",
              "    90% {\n",
              "      border-color: transparent;\n",
              "      border-bottom-color: var(--fill-color);\n",
              "    }\n",
              "  }\n",
              "</style>\n",
              "\n",
              "  <script>\n",
              "    async function quickchart(key) {\n",
              "      const quickchartButtonEl =\n",
              "        document.querySelector('#' + key + ' button');\n",
              "      quickchartButtonEl.disabled = true;  // To prevent multiple clicks.\n",
              "      quickchartButtonEl.classList.add('colab-df-spinner');\n",
              "      try {\n",
              "        const charts = await google.colab.kernel.invokeFunction(\n",
              "            'suggestCharts', [key], {});\n",
              "      } catch (error) {\n",
              "        console.error('Error during call to suggestCharts:', error);\n",
              "      }\n",
              "      quickchartButtonEl.classList.remove('colab-df-spinner');\n",
              "      quickchartButtonEl.classList.add('colab-df-quickchart-complete');\n",
              "    }\n",
              "    (() => {\n",
              "      let quickchartButtonEl =\n",
              "        document.querySelector('#df-f4b58478-a8fc-491d-81a7-7021b2768aab button');\n",
              "      quickchartButtonEl.style.display =\n",
              "        google.colab.kernel.accessAllowed ? 'block' : 'none';\n",
              "    })();\n",
              "  </script>\n",
              "</div>\n",
              "\n",
              "    </div>\n",
              "  </div>\n"
            ],
            "application/vnd.google.colaboratory.intrinsic+json": {
              "type": "dataframe",
              "summary": "{\n  \"name\": \"final_data\",\n  \"rows\": 10,\n  \"fields\": [\n    {\n      \"column\": \"user\",\n      \"properties\": {\n        \"dtype\": \"number\",\n        \"std\": 1198,\n        \"min\": 451,\n        \"max\": 4607,\n        \"num_unique_values\": 10,\n        \"samples\": [\n          2907,\n          2868,\n          1722\n        ],\n        \"semantic_type\": \"\",\n        \"description\": \"\"\n      }\n    },\n    {\n      \"column\": \"item\",\n      \"properties\": {\n        \"dtype\": \"number\",\n        \"std\": 1358,\n        \"min\": 48,\n        \"max\": 3701,\n        \"num_unique_values\": 10,\n        \"samples\": [\n          3507,\n          3578,\n          3017\n        ],\n        \"semantic_type\": \"\",\n        \"description\": \"\"\n      }\n    },\n    {\n      \"column\": \"age\",\n      \"properties\": {\n        \"dtype\": \"number\",\n        \"std\": 11,\n        \"min\": 18,\n        \"max\": 56,\n        \"num_unique_values\": 4,\n        \"samples\": [\n          35,\n          56,\n          18\n        ],\n        \"semantic_type\": \"\",\n        \"description\": \"\"\n      }\n    },\n    {\n      \"column\": \"genre1\",\n      \"properties\": {\n        \"dtype\": \"string\",\n        \"num_unique_values\": 7,\n        \"samples\": [\n          \"Action\",\n          \"Crime\",\n          \"Comedy\"\n        ],\n        \"semantic_type\": \"\",\n        \"description\": \"\"\n      }\n    },\n    {\n      \"column\": \"genre2\",\n      \"properties\": {\n        \"dtype\": \"string\",\n        \"num_unique_values\": 5,\n        \"samples\": [\n          \"Drama\",\n          \"Children's\",\n          \"Comedy\"\n        ],\n        \"semantic_type\": \"\",\n        \"description\": \"\"\n      }\n    },\n    {\n      \"column\": \"genre3\",\n      \"properties\": {\n        \"dtype\": \"category\",\n        \"num_unique_values\": 3,\n        \"samples\": [\n          \"missing\",\n          \"Sci-Fi\",\n          \"Musical\"\n        ],\n        \"semantic_type\": \"\",\n        \"description\": \"\"\n      }\n    },\n    {\n      \"column\": \"label\",\n      \"properties\": {\n        \"dtype\": \"number\",\n        \"std\": 0,\n        \"min\": 3,\n        \"max\": 5,\n        \"num_unique_values\": 3,\n        \"samples\": [\n          4,\n          3,\n          5\n        ],\n        \"semantic_type\": \"\",\n        \"description\": \"\"\n      }\n    },\n    {\n      \"column\": \"occupation\",\n      \"properties\": {\n        \"dtype\": \"number\",\n        \"std\": 4,\n        \"min\": 0,\n        \"max\": 13,\n        \"num_unique_values\": 6,\n        \"samples\": [\n          4,\n          12,\n          5\n        ],\n        \"semantic_type\": \"\",\n        \"description\": \"\"\n      }\n    },\n    {\n      \"column\": \"scores\",\n      \"properties\": {\n        \"dtype\": \"number\",\n        \"std\": 1,\n        \"min\": 0,\n        \"max\": 4,\n        \"num_unique_values\": 5,\n        \"samples\": [\n          0,\n          2,\n          3\n        ],\n        \"semantic_type\": \"\",\n        \"description\": \"\"\n      }\n    },\n    {\n      \"column\": \"sex\",\n      \"properties\": {\n        \"dtype\": \"category\",\n        \"num_unique_values\": 2,\n        \"samples\": [\n          \"M\",\n          \"F\"\n        ],\n        \"semantic_type\": \"\",\n        \"description\": \"\"\n      }\n    },\n    {\n      \"column\": \"time\",\n      \"properties\": {\n        \"dtype\": \"number\",\n        \"std\": 10740390,\n        \"min\": 966904746,\n        \"max\": 998919752,\n        \"num_unique_values\": 10,\n        \"samples\": [\n          971841563,\n          992717649\n        ],\n        \"semantic_type\": \"\",\n        \"description\": \"\"\n      }\n    }\n  ]\n}"
            }
          },
          "metadata": {},
          "execution_count": 33
        }
      ]
    },
    {
      "cell_type": "markdown",
      "source": [
        "# SPlit Data"
      ],
      "metadata": {
        "id": "4m1IaF16VGsd"
      }
    },
    {
      "cell_type": "code",
      "source": [
        "# SPlit Data\n",
        "\n",
        "from libreco.data import random_split\n",
        "\n",
        "# split data into three folds for training, evaluating and testing\n",
        "first_half_data = final_data[: (len(final_data) // 2)] #I am using Full Data\n",
        "train_data, eval_data, test_data = random_split(first_half_data, multi_ratios=[0.6, 0.2, 0.2], seed=42)"
      ],
      "metadata": {
        "id": "Uzo8wbpp823O"
      },
      "execution_count": 16,
      "outputs": []
    },
    {
      "cell_type": "code",
      "source": [
        "print(\"first half data shape:\", first_half_data.shape)"
      ],
      "metadata": {
        "colab": {
          "base_uri": "https://localhost:8080/"
        },
        "id": "t4nMwDxK8_M2",
        "outputId": "380be0a8-02ed-48e8-d4cd-cf2003826b5f"
      },
      "execution_count": 17,
      "outputs": [
        {
          "output_type": "stream",
          "name": "stdout",
          "text": [
            "first half data shape: (500095, 11)\n"
          ]
        }
      ]
    },
    {
      "cell_type": "code",
      "source": [
        "from libreco.data import DatasetFeat\n",
        "\n",
        "sparse_col = [\"sex\", \"occupation\", \"genre1\", \"genre2\", \"genre3\"]\n",
        "# dense_col = [\"age\", \"label\"] # Without Sentiment Analysis\n",
        "dense_col = [\"age\", \"label\", \"scores\"] # With sentiment analysis Scores\n",
        "# user_col = [\"sex\", \"age\", \"label\", \"occupation\"] # Without Sentiment analysis scores\n",
        "user_col = [\"sex\", \"age\", \"label\", \"scores\", \"occupation\"] # With Sentiment analysis scores\n",
        "item_col = [\"genre1\", \"genre2\", \"genre3\"]\n",
        "\n",
        "train_data, data_info = DatasetFeat.build_trainset(train_data, user_col, item_col, sparse_col, dense_col)\n",
        "eval_data = DatasetFeat.build_evalset(eval_data)\n",
        "test_data = DatasetFeat.build_testset(test_data)"
      ],
      "metadata": {
        "id": "eFICJwnU9Msb"
      },
      "execution_count": 18,
      "outputs": []
    },
    {
      "cell_type": "code",
      "source": [
        "print(type(train_data))"
      ],
      "metadata": {
        "id": "ly1oOhewYex6",
        "colab": {
          "base_uri": "https://localhost:8080/"
        },
        "outputId": "86906447-bf88-4915-d93b-abd91ab10c98"
      },
      "execution_count": null,
      "outputs": [
        {
          "output_type": "stream",
          "name": "stdout",
          "text": [
            "<class 'libreco.data.transformed.TransformedSet'>\n"
          ]
        }
      ]
    },
    {
      "cell_type": "code",
      "source": [
        "print(data_info)"
      ],
      "metadata": {
        "colab": {
          "base_uri": "https://localhost:8080/"
        },
        "id": "6V_uMkuH8dUj",
        "outputId": "29b54bcf-24a4-4d68-8626-4973ebeb5df1"
      },
      "execution_count": 19,
      "outputs": [
        {
          "output_type": "stream",
          "name": "stdout",
          "text": [
            "n_users: 6040, n_items: 3535, data density: 1.4053 %\n"
          ]
        }
      ]
    },
    {
      "cell_type": "code",
      "source": [
        "#Import DeepFM\n",
        "from libreco.algorithms import DeepFM\n",
        "\n",
        "tf.compat.v1.reset_default_graph()\n",
        "\n",
        "# n_epochs=4,\n",
        "# dropout_rate=None,\n",
        "\n",
        "model = DeepFM(\n",
        "    task=\"ranking\",             # Use ranking task if appropriate\n",
        "    data_info=data_info,        # Provide dataset information\n",
        "    loss_type=\"cross_entropy\",  # Use cross-entropy loss for classification tasks\n",
        "    embed_size=16,              # Size of embedding vectors = 16 or 8\n",
        "    n_epochs= 12,                # Increase the number of epochs for larger datasets - 5 or 12\n",
        "    lr=0.001,                    # Adjust learning rate accordingly 1e-4 or 0.001 or 2e-5\n",
        "    lr_decay=True,              # Enable learning rate decay for better convergence\n",
        "    reg=None,                  # Apply regularization to prevent overfitting\n",
        "    batch_size=1024,            # Adjust batch size based on available memory = 512 or 2048 or 1024\n",
        "    num_neg=1,                  # Increase the number of negative samples for ranking tasks\n",
        "    use_bn=True,                # Use batch normalization to stabilize training\n",
        "    dropout_rate=None,           # Apply dropout regularization to prevent overfitting\n",
        "    hidden_units=(256, 128, 64), # Increase the size of hidden layers for more capacity\n",
        "    tf_sess_config=None,         # Use default TensorFlow session configuration\n",
        ")\n",
        "\n",
        "# Fit Model\n",
        "\n",
        "model.fit(\n",
        "    train_data=train_data,\n",
        "    neg_sampling=True,  # perform negative sampling on training and eval data\n",
        "    verbose=2,\n",
        "    shuffle=True,\n",
        "    eval_data=eval_data,\n",
        "    metrics=[\n",
        "            \"loss\",\n",
        "            \"balanced_accuracy\",\n",
        "            \"roc_auc\",\n",
        "            \"pr_auc\",\n",
        "            \"precision\",\n",
        "            \"recall\",\n",
        "            \"map\",\n",
        "            \"ndcg\",\n",
        "        ],\n",
        ")"
      ],
      "metadata": {
        "colab": {
          "base_uri": "https://localhost:8080/"
        },
        "id": "p0WqpzVN5lw7",
        "outputId": "3e9815c9-3cdc-4af8-cf52-9d452426ca2a"
      },
      "execution_count": 20,
      "outputs": [
        {
          "output_type": "stream",
          "name": "stderr",
          "text": [
            "WARNING:tensorflow:From /usr/local/lib/python3.10/dist-packages/tensorflow/python/compat/v2_compat.py:108: disable_resource_variables (from tensorflow.python.ops.variable_scope) is deprecated and will be removed in a future version.\n",
            "Instructions for updating:\n",
            "non-resource variables are not supported in the long term\n"
          ]
        },
        {
          "output_type": "stream",
          "name": "stdout",
          "text": [
            "Training start time: \u001b[35m2024-04-16 00:32:51\u001b[0m\n"
          ]
        },
        {
          "output_type": "stream",
          "name": "stderr",
          "text": [
            "WARNING:tensorflow:From /usr/local/lib/python3.10/dist-packages/keras/src/layers/normalization/batch_normalization.py:883: _colocate_with (from tensorflow.python.framework.ops) is deprecated and will be removed in a future version.\n",
            "Instructions for updating:\n",
            "Colocations handled automatically by placer.\n"
          ]
        },
        {
          "output_type": "stream",
          "name": "stdout",
          "text": [
            "total params: \u001b[33m247,769\u001b[0m | embedding params: \u001b[33m164,670\u001b[0m | network params: \u001b[33m83,099\u001b[0m\n",
            "With lr_decay, epoch 1 learning rate: 0.0010000000474974513\n"
          ]
        },
        {
          "output_type": "stream",
          "name": "stderr",
          "text": [
            "train: 100%|██████████| 587/587 [00:15<00:00, 36.89it/s]\n"
          ]
        },
        {
          "output_type": "stream",
          "name": "stdout",
          "text": [
            "Epoch 1 elapsed: 15.919s\n",
            "\t \u001b[32mtrain_loss: 0.6374\u001b[0m\n"
          ]
        },
        {
          "output_type": "stream",
          "name": "stderr",
          "text": [
            "eval_pointwise: 100%|██████████| 25/25 [00:01<00:00, 20.56it/s]\n",
            "eval_listwise: 100%|██████████| 2974/2974 [02:15<00:00, 21.94it/s]\n"
          ]
        },
        {
          "output_type": "stream",
          "name": "stdout",
          "text": [
            "\t eval log_loss: 0.5370\n",
            "\t eval balanced_accuracy: 0.7296\n",
            "\t eval roc_auc: 0.8023\n",
            "\t eval pr_auc: 0.7748\n",
            "\t eval precision@10: 0.0480\n",
            "\t eval recall@10: 0.0406\n",
            "\t eval map@10: 0.1200\n",
            "\t eval ndcg@10: 0.1783\n",
            "==============================\n",
            "With lr_decay, epoch 2 learning rate: 0.0009600000339560211\n"
          ]
        },
        {
          "output_type": "stream",
          "name": "stderr",
          "text": [
            "train: 100%|██████████| 587/587 [00:14<00:00, 41.42it/s]\n"
          ]
        },
        {
          "output_type": "stream",
          "name": "stdout",
          "text": [
            "Epoch 2 elapsed: 14.178s\n",
            "\t \u001b[32mtrain_loss: 0.4678\u001b[0m\n"
          ]
        },
        {
          "output_type": "stream",
          "name": "stderr",
          "text": [
            "eval_pointwise: 100%|██████████| 25/25 [00:01<00:00, 15.70it/s]\n",
            "eval_listwise: 100%|██████████| 2974/2974 [02:16<00:00, 21.87it/s]\n"
          ]
        },
        {
          "output_type": "stream",
          "name": "stdout",
          "text": [
            "\t eval log_loss: 0.5277\n",
            "\t eval balanced_accuracy: 0.7486\n",
            "\t eval roc_auc: 0.8253\n",
            "\t eval pr_auc: 0.7991\n",
            "\t eval precision@10: 0.0510\n",
            "\t eval recall@10: 0.0438\n",
            "\t eval map@10: 0.1294\n",
            "\t eval ndcg@10: 0.1901\n",
            "==============================\n",
            "With lr_decay, epoch 3 learning rate: 0.0009216000325977802\n"
          ]
        },
        {
          "output_type": "stream",
          "name": "stderr",
          "text": [
            "train: 100%|██████████| 587/587 [00:14<00:00, 41.79it/s]\n"
          ]
        },
        {
          "output_type": "stream",
          "name": "stdout",
          "text": [
            "Epoch 3 elapsed: 14.057s\n",
            "\t \u001b[32mtrain_loss: 0.4423\u001b[0m\n"
          ]
        },
        {
          "output_type": "stream",
          "name": "stderr",
          "text": [
            "eval_pointwise: 100%|██████████| 25/25 [00:01<00:00, 21.81it/s]\n",
            "eval_listwise: 100%|██████████| 2974/2974 [02:15<00:00, 22.02it/s]\n"
          ]
        },
        {
          "output_type": "stream",
          "name": "stdout",
          "text": [
            "\t eval log_loss: 0.5104\n",
            "\t eval balanced_accuracy: 0.7592\n",
            "\t eval roc_auc: 0.8338\n",
            "\t eval pr_auc: 0.8079\n",
            "\t eval precision@10: 0.0551\n",
            "\t eval recall@10: 0.0494\n",
            "\t eval map@10: 0.1329\n",
            "\t eval ndcg@10: 0.1990\n",
            "==============================\n",
            "With lr_decay, epoch 4 learning rate: 0.000884735956788063\n"
          ]
        },
        {
          "output_type": "stream",
          "name": "stderr",
          "text": [
            "train: 100%|██████████| 587/587 [00:14<00:00, 40.55it/s]\n"
          ]
        },
        {
          "output_type": "stream",
          "name": "stdout",
          "text": [
            "Epoch 4 elapsed: 14.487s\n",
            "\t \u001b[32mtrain_loss: 0.4267\u001b[0m\n"
          ]
        },
        {
          "output_type": "stream",
          "name": "stderr",
          "text": [
            "eval_pointwise: 100%|██████████| 25/25 [00:01<00:00, 21.12it/s]\n",
            "eval_listwise: 100%|██████████| 2974/2974 [02:14<00:00, 22.16it/s]\n"
          ]
        },
        {
          "output_type": "stream",
          "name": "stdout",
          "text": [
            "\t eval log_loss: 0.5148\n",
            "\t eval balanced_accuracy: 0.7585\n",
            "\t eval roc_auc: 0.8357\n",
            "\t eval pr_auc: 0.8091\n",
            "\t eval precision@10: 0.0546\n",
            "\t eval recall@10: 0.0488\n",
            "\t eval map@10: 0.1368\n",
            "\t eval ndcg@10: 0.2003\n",
            "==============================\n",
            "With lr_decay, epoch 5 learning rate: 0.0008493465138599277\n"
          ]
        },
        {
          "output_type": "stream",
          "name": "stderr",
          "text": [
            "train: 100%|██████████| 587/587 [00:14<00:00, 41.02it/s]\n"
          ]
        },
        {
          "output_type": "stream",
          "name": "stdout",
          "text": [
            "Epoch 5 elapsed: 14.316s\n",
            "\t \u001b[32mtrain_loss: 0.4162\u001b[0m\n"
          ]
        },
        {
          "output_type": "stream",
          "name": "stderr",
          "text": [
            "eval_pointwise: 100%|██████████| 25/25 [00:01<00:00, 21.12it/s]\n",
            "eval_listwise: 100%|██████████| 2974/2974 [02:15<00:00, 22.00it/s]\n"
          ]
        },
        {
          "output_type": "stream",
          "name": "stdout",
          "text": [
            "\t eval log_loss: 0.5118\n",
            "\t eval balanced_accuracy: 0.7622\n",
            "\t eval roc_auc: 0.8406\n",
            "\t eval pr_auc: 0.8162\n",
            "\t eval precision@10: 0.0583\n",
            "\t eval recall@10: 0.0530\n",
            "\t eval map@10: 0.1466\n",
            "\t eval ndcg@10: 0.2144\n",
            "==============================\n",
            "With lr_decay, epoch 6 learning rate: 0.0008153726230375469\n"
          ]
        },
        {
          "output_type": "stream",
          "name": "stderr",
          "text": [
            "train: 100%|██████████| 587/587 [00:14<00:00, 41.76it/s]\n"
          ]
        },
        {
          "output_type": "stream",
          "name": "stdout",
          "text": [
            "Epoch 6 elapsed: 14.065s\n",
            "\t \u001b[32mtrain_loss: 0.4042\u001b[0m\n"
          ]
        },
        {
          "output_type": "stream",
          "name": "stderr",
          "text": [
            "eval_pointwise: 100%|██████████| 25/25 [00:01<00:00, 21.81it/s]\n",
            "eval_listwise: 100%|██████████| 2974/2974 [02:14<00:00, 22.18it/s]\n"
          ]
        },
        {
          "output_type": "stream",
          "name": "stdout",
          "text": [
            "\t eval log_loss: 0.5247\n",
            "\t eval balanced_accuracy: 0.7627\n",
            "\t eval roc_auc: 0.8408\n",
            "\t eval pr_auc: 0.8169\n",
            "\t eval precision@10: 0.0591\n",
            "\t eval recall@10: 0.0546\n",
            "\t eval map@10: 0.1442\n",
            "\t eval ndcg@10: 0.2142\n",
            "==============================\n",
            "With lr_decay, epoch 7 learning rate: 0.0007827577646821737\n"
          ]
        },
        {
          "output_type": "stream",
          "name": "stderr",
          "text": [
            "train: 100%|██████████| 587/587 [00:14<00:00, 41.31it/s]\n"
          ]
        },
        {
          "output_type": "stream",
          "name": "stdout",
          "text": [
            "Epoch 7 elapsed: 14.216s\n",
            "\t \u001b[32mtrain_loss: 0.3952\u001b[0m\n"
          ]
        },
        {
          "output_type": "stream",
          "name": "stderr",
          "text": [
            "eval_pointwise: 100%|██████████| 25/25 [00:01<00:00, 21.51it/s]\n",
            "eval_listwise: 100%|██████████| 2974/2974 [02:14<00:00, 22.06it/s]\n"
          ]
        },
        {
          "output_type": "stream",
          "name": "stdout",
          "text": [
            "\t eval log_loss: 0.5312\n",
            "\t eval balanced_accuracy: 0.7644\n",
            "\t eval roc_auc: 0.8403\n",
            "\t eval pr_auc: 0.8154\n",
            "\t eval precision@10: 0.0557\n",
            "\t eval recall@10: 0.0490\n",
            "\t eval map@10: 0.1363\n",
            "\t eval ndcg@10: 0.2011\n",
            "==============================\n",
            "With lr_decay, epoch 8 learning rate: 0.0007514473982155323\n"
          ]
        },
        {
          "output_type": "stream",
          "name": "stderr",
          "text": [
            "train: 100%|██████████| 587/587 [00:14<00:00, 41.65it/s]\n"
          ]
        },
        {
          "output_type": "stream",
          "name": "stdout",
          "text": [
            "Epoch 8 elapsed: 14.099s\n",
            "\t \u001b[32mtrain_loss: 0.3869\u001b[0m\n"
          ]
        },
        {
          "output_type": "stream",
          "name": "stderr",
          "text": [
            "eval_pointwise: 100%|██████████| 25/25 [00:01<00:00, 21.52it/s]\n",
            "eval_listwise: 100%|██████████| 2974/2974 [02:13<00:00, 22.20it/s]\n"
          ]
        },
        {
          "output_type": "stream",
          "name": "stdout",
          "text": [
            "\t eval log_loss: 0.5449\n",
            "\t eval balanced_accuracy: 0.7587\n",
            "\t eval roc_auc: 0.8409\n",
            "\t eval pr_auc: 0.8174\n",
            "\t eval precision@10: 0.0593\n",
            "\t eval recall@10: 0.0544\n",
            "\t eval map@10: 0.1445\n",
            "\t eval ndcg@10: 0.2141\n",
            "==============================\n",
            "With lr_decay, epoch 9 learning rate: 0.000721389485988766\n"
          ]
        },
        {
          "output_type": "stream",
          "name": "stderr",
          "text": [
            "train: 100%|██████████| 587/587 [00:14<00:00, 41.60it/s]\n"
          ]
        },
        {
          "output_type": "stream",
          "name": "stdout",
          "text": [
            "Epoch 9 elapsed: 14.121s\n",
            "\t \u001b[32mtrain_loss: 0.3786\u001b[0m\n"
          ]
        },
        {
          "output_type": "stream",
          "name": "stderr",
          "text": [
            "eval_pointwise: 100%|██████████| 25/25 [00:01<00:00, 13.92it/s]\n",
            "eval_listwise: 100%|██████████| 2974/2974 [02:14<00:00, 22.19it/s]\n"
          ]
        },
        {
          "output_type": "stream",
          "name": "stdout",
          "text": [
            "\t eval log_loss: 0.5548\n",
            "\t eval balanced_accuracy: 0.7610\n",
            "\t eval roc_auc: 0.8412\n",
            "\t eval pr_auc: 0.8174\n",
            "\t eval precision@10: 0.0586\n",
            "\t eval recall@10: 0.0539\n",
            "\t eval map@10: 0.1407\n",
            "\t eval ndcg@10: 0.2099\n",
            "==============================\n",
            "With lr_decay, epoch 10 learning rate: 0.0006925339112058282\n"
          ]
        },
        {
          "output_type": "stream",
          "name": "stderr",
          "text": [
            "train: 100%|██████████| 587/587 [00:14<00:00, 41.84it/s]\n"
          ]
        },
        {
          "output_type": "stream",
          "name": "stdout",
          "text": [
            "Epoch 10 elapsed: 14.036s\n",
            "\t \u001b[32mtrain_loss: 0.3713\u001b[0m\n"
          ]
        },
        {
          "output_type": "stream",
          "name": "stderr",
          "text": [
            "eval_pointwise: 100%|██████████| 25/25 [00:01<00:00, 21.77it/s]\n",
            "eval_listwise: 100%|██████████| 2974/2974 [02:14<00:00, 22.12it/s]\n"
          ]
        },
        {
          "output_type": "stream",
          "name": "stdout",
          "text": [
            "\t eval log_loss: 0.5684\n",
            "\t eval balanced_accuracy: 0.7616\n",
            "\t eval roc_auc: 0.8418\n",
            "\t eval pr_auc: 0.8185\n",
            "\t eval precision@10: 0.0582\n",
            "\t eval recall@10: 0.0537\n",
            "\t eval map@10: 0.1415\n",
            "\t eval ndcg@10: 0.2093\n",
            "==============================\n",
            "With lr_decay, epoch 11 learning rate: 0.0006648324779234827\n"
          ]
        },
        {
          "output_type": "stream",
          "name": "stderr",
          "text": [
            "train: 100%|██████████| 587/587 [00:14<00:00, 41.50it/s]\n"
          ]
        },
        {
          "output_type": "stream",
          "name": "stdout",
          "text": [
            "Epoch 11 elapsed: 14.154s\n",
            "\t \u001b[32mtrain_loss: 0.3651\u001b[0m\n"
          ]
        },
        {
          "output_type": "stream",
          "name": "stderr",
          "text": [
            "eval_pointwise: 100%|██████████| 25/25 [00:01<00:00, 13.42it/s]\n",
            "eval_listwise: 100%|██████████| 2974/2974 [02:14<00:00, 22.09it/s]\n"
          ]
        },
        {
          "output_type": "stream",
          "name": "stdout",
          "text": [
            "\t eval log_loss: 0.5709\n",
            "\t eval balanced_accuracy: 0.7651\n",
            "\t eval roc_auc: 0.8423\n",
            "\t eval pr_auc: 0.8184\n",
            "\t eval precision@10: 0.0579\n",
            "\t eval recall@10: 0.0542\n",
            "\t eval map@10: 0.1389\n",
            "\t eval ndcg@10: 0.2076\n",
            "==============================\n",
            "With lr_decay, epoch 12 learning rate: 0.0006382392020896077\n"
          ]
        },
        {
          "output_type": "stream",
          "name": "stderr",
          "text": [
            "train: 100%|██████████| 587/587 [00:14<00:00, 40.33it/s]\n"
          ]
        },
        {
          "output_type": "stream",
          "name": "stdout",
          "text": [
            "Epoch 12 elapsed: 14.562s\n",
            "\t \u001b[32mtrain_loss: 0.3592\u001b[0m\n"
          ]
        },
        {
          "output_type": "stream",
          "name": "stderr",
          "text": [
            "eval_pointwise: 100%|██████████| 25/25 [00:01<00:00, 21.05it/s]\n",
            "eval_listwise: 100%|██████████| 2974/2974 [02:19<00:00, 21.32it/s]\n"
          ]
        },
        {
          "output_type": "stream",
          "name": "stdout",
          "text": [
            "\t eval log_loss: 0.5995\n",
            "\t eval balanced_accuracy: 0.7626\n",
            "\t eval roc_auc: 0.8440\n",
            "\t eval pr_auc: 0.8209\n",
            "\t eval precision@10: 0.0583\n",
            "\t eval recall@10: 0.0545\n",
            "\t eval map@10: 0.1478\n",
            "\t eval ndcg@10: 0.2165\n",
            "==============================\n"
          ]
        }
      ]
    },
    {
      "cell_type": "code",
      "source": [
        "# Evaluate Test Data\n",
        "\n",
        "from libreco.evaluation import evaluate\n",
        "\n",
        "evaluate(\n",
        "    model=model,\n",
        "    data=test_data,\n",
        "    neg_sampling=True,  # No negative sampling on test data\n",
        "    metrics=[\n",
        "            \"loss\",\n",
        "            \"balanced_accuracy\",\n",
        "            \"roc_auc\",\n",
        "            \"pr_auc\",\n",
        "            \"precision\",\n",
        "            \"recall\",\n",
        "            \"map\",\n",
        "            \"ndcg\",\n",
        "        ],\n",
        ")\n"
      ],
      "metadata": {
        "colab": {
          "base_uri": "https://localhost:8080/"
        },
        "id": "Z9wy0tDx9594",
        "outputId": "e8d6d6da-d3bb-47ca-c878-da779f6fb6e3"
      },
      "execution_count": 21,
      "outputs": [
        {
          "output_type": "stream",
          "name": "stderr",
          "text": [
            "eval_pointwise: 100%|██████████| 25/25 [00:01<00:00, 15.17it/s]\n",
            "eval_listwise: 100%|██████████| 2982/2982 [01:58<00:00, 25.10it/s]\n"
          ]
        },
        {
          "output_type": "execute_result",
          "data": {
            "text/plain": [
              "{'loss': 0.5998284481063995,\n",
              " 'balanced_accuracy': 0.7635996238721166,\n",
              " 'roc_auc': 0.8446872540869326,\n",
              " 'pr_auc': 0.8213677952542983,\n",
              " 'precision': 0.05916484990776455,\n",
              " 'recall': 0.054060672264152454,\n",
              " 'map': 0.13982615619398056,\n",
              " 'ndcg': 0.2096141353701751}"
            ]
          },
          "metadata": {},
          "execution_count": 21
        }
      ]
    },
    {
      "cell_type": "markdown",
      "source": [
        "Plots"
      ],
      "metadata": {
        "id": "CWnnrrng76io"
      }
    },
    {
      "cell_type": "code",
      "source": [
        "# predict preference of user 87711 to item 110\n",
        "# model.predict(user=87711, item=1690)\n",
        "\n",
        "# Make Recommendation\n",
        "# model.recommend_user(user=1, n_rec=3)\n",
        "\n",
        "# Make temporary recommendations based on User features\n",
        "model.recommend_user(user=10, n_rec=10, user_feats={\"sex\": \"M\", \"age\": 33})"
      ],
      "metadata": {
        "colab": {
          "base_uri": "https://localhost:8080/"
        },
        "id": "tKjk4IAa99SX",
        "outputId": "fdeb572a-d7af-4057-f20c-3e1582cc50f8"
      },
      "execution_count": 26,
      "outputs": [
        {
          "output_type": "execute_result",
          "data": {
            "text/plain": [
              "{10: array([ 260,  480, 1198, 1580,    1, 1196, 2028, 1214, 1270, 1210])}"
            ]
          },
          "metadata": {},
          "execution_count": 26
        }
      ]
    },
    {
      "cell_type": "code",
      "source": [
        "data_info.save(\"/content/drive/MyDrive/ProjectDatasets/\", model_name=\"deep_fm_enhanced\")\n",
        "model.save(\"/content/drive/MyDrive/ProjectDatasets/\", model_name=\"deep_fm_enhanced\")"
      ],
      "metadata": {
        "id": "pzIlN1xVM9fv"
      },
      "execution_count": 23,
      "outputs": []
    }
  ]
}